{
  "nbformat": 4,
  "nbformat_minor": 0,
  "metadata": {
    "colab": {
      "name": "demo_cases.ipynb",
      "private_outputs": true,
      "provenance": [],
      "include_colab_link": true
    },
    "kernelspec": {
      "name": "python3",
      "display_name": "Python 3"
    },
    "language_info": {
      "name": "python"
    },
    "accelerator": "GPU"
  },
  "cells": [
    {
      "cell_type": "markdown",
      "metadata": {
        "id": "view-in-github",
        "colab_type": "text"
      },
      "source": [
        "<a href=\"https://colab.research.google.com/github/Laredo-Labs/atom-plugin/blob/main/notebooks/demo_cases.ipynb\" target=\"_parent\"><img src=\"https://colab.research.google.com/assets/colab-badge.svg\" alt=\"Open In Colab\"/></a>"
      ]
    },
    {
      "cell_type": "code",
      "execution_count": null,
      "metadata": {
        "id": "2Jic-5GT_i2C"
      },
      "outputs": [],
      "source": [
        "!pip install transformers datasets accelerate more-itertools unidiff optuna"
      ]
    },
    {
      "cell_type": "code",
      "source": [
        "from google.colab import drive\n",
        "drive.mount('/content/drive')"
      ],
      "metadata": {
        "id": "momkjuBvCQ-R"
      },
      "execution_count": null,
      "outputs": []
    },
    {
      "cell_type": "code",
      "source": [
        "import sys\n",
        "sys.path.append('/content/drive/MyDrive/laredo/llm-research/src')\n",
        "sys.path.append('/content/drive/MyDrive/laredo/llm-research/src/eval')\n",
        "import commit_tester"
      ],
      "metadata": {
        "id": "A4G0tk49CpGl"
      },
      "execution_count": null,
      "outputs": []
    },
    {
      "cell_type": "code",
      "source": [
        "from transformers import GPT2TokenizerFast, GPT2LMHeadModel\n",
        "import termcolor\n",
        "import pandas as pd\n",
        "import torch\n",
        "import time\n",
        "\n",
        "model_path = \"/content/drive/MyDrive/laredo/models/background-20220330\"\n",
        "dataset_path = \"/content/drive/MyDrive/laredo/data/20220330-165311-unified\"\n",
        "dataset_split = \"validation\"\n",
        "\n",
        "device = torch.device('cuda' if torch.cuda.is_available() else 'cpu')\n",
        "\n",
        "tokenizer = GPT2TokenizerFast.from_pretrained(\"/content/drive/MyDrive/laredo/tokenizer\")\n",
        "model = GPT2LMHeadModel.from_pretrained(model_path)\n",
        "model = model.to(device)\n",
        "\n",
        "print(f\"Starting demo case search of {model_path} with {dataset_path}[{dataset_split}]\")\n",
        "\n",
        "results = commit_tester.test_dataset(model, tokenizer, dataset_path, dataset_split)"
      ],
      "metadata": {
        "id": "JmwImH0ADd7t"
      },
      "execution_count": null,
      "outputs": []
    },
    {
      "cell_type": "code",
      "source": [
        "# sort by matched token ratio and show top 5\n",
        "results.sort(key=lambda test: test.matched_token_ratio(), reverse=True)\n",
        "for result in results[:5]:\n",
        "    commit_tester.render_result(result, tokenizer)\n"
      ],
      "metadata": {
        "id": "GHIsiebv_KJD"
      },
      "execution_count": null,
      "outputs": []
    },
    {
      "cell_type": "code",
      "source": [
        "# sort by matched tokens and show top 5\n",
        "results.sort(key=lambda test: test.matched_tokens(), reverse=True)\n",
        "for result in results[:5]:\n",
        "    commit_tester.render_result(result, tokenizer)"
      ],
      "metadata": {
        "id": "T2cT21hzA2dg"
      },
      "execution_count": null,
      "outputs": []
    },
    {
      "cell_type": "code",
      "source": [
        "print(f\"{tokenizer.convert_ids_to_tokens(results[0].tokens)}\")"
      ],
      "metadata": {
        "id": "p47vJKTOKqx2"
      },
      "execution_count": null,
      "outputs": []
    },
    {
      "cell_type": "markdown",
      "source": [
        "Optional testing of the results to ensure test_dataset's testing in different contexts produces results that would be consistent with what would happen normally with our client."
      ],
      "metadata": {
        "id": "2IFoVMAm_LBc"
      }
    },
    {
      "cell_type": "code",
      "source": [
        "commit_tester.corroborate_results(model, tokenizer, results, tests_per_commit=100)"
      ],
      "metadata": {
        "id": "6PHQimBpLyil"
      },
      "execution_count": null,
      "outputs": []
    }
  ]
}